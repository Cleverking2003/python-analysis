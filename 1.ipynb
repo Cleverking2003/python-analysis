{
 "cells": [
  {
   "cell_type": "markdown",
   "metadata": {},
   "source": [
    "Задание 1\n"
   ]
  },
  {
   "cell_type": "code",
   "execution_count": null,
   "metadata": {
    "vscode": {
     "languageId": "plaintext"
    }
   },
   "outputs": [],
   "source": [
    "def my_list(n):\n",
    "    l = [x for x in range(1, n, 2) if x % 3 != 0 ]\n",
    "    s = round(sum(l) / len(l))\n",
    "    return s + min(l) + max (l)"
   ]
  },
  {
   "cell_type": "code",
   "execution_count": null,
   "metadata": {
    "vscode": {
     "languageId": "plaintext"
    }
   },
   "outputs": [],
   "source": [
    "Задание 2"
   ]
  },
  {
   "cell_type": "code",
   "execution_count": null,
   "metadata": {
    "vscode": {
     "languageId": "plaintext"
    }
   },
   "outputs": [],
   "source": [
    "def work(n):\n",
    "    set_1 = {x for x in range(3, n + 1, 3)}\n",
    "    set_2 = {x for x in range(2, 102, 2)}\n",
    "    sum_1 = sum(set_1 or set_2)\n",
    "    sum_2 = sum(set_1 and set_2)\n",
    "    return sum_1 + sum_2"
   ]
  },
  {
   "cell_type": "markdown",
   "metadata": {},
   "source": [
    "Задание 3\n"
   ]
  },
  {
   "cell_type": "code",
   "execution_count": null,
   "metadata": {
    "vscode": {
     "languageId": "plaintext"
    }
   },
   "outputs": [],
   "source": [
    "def autoshop(product):\n",
    "    autoshop1 = {\n",
    "        'car': 100, \n",
    "        'car_wheel': 10, \n",
    "        'truck': 200 , \n",
    "        'truck_wheel': 20, \n",
    "        'bike':  30\n",
    "    }\n",
    "\n",
    "    autoshop2 = {\n",
    "        'car': 120, \n",
    "        'car_wheel': 12, \n",
    "        'truck': 180 , \n",
    "        'truck_wheel': 18 , \n",
    "        'bike':  25\n",
    "    }\n",
    "\n",
    "    autoshop1 = { k : v + 10 for k, v in autoshop1.items() if v != min(autoshop1.values()) }\n",
    "    autoshop1['bike_wheel'] = 5\n",
    "\n",
    "    autoshop2 = { k : v - 10 for k, v in autoshop2.items() if v != max(autoshop2.values()) }\n",
    "    autoshop2['tractor'] = 300\n",
    "\n",
    "    if not product in autoshop1:\n",
    "        return autoshop2[product]\n",
    "    if not product in autoshop2:\n",
    "        return autoshop1[product]\n",
    "    return min(autoshop1[product], autoshop2[product])"
   ]
  },
  {
   "cell_type": "code",
   "execution_count": null,
   "metadata": {
    "vscode": {
     "languageId": "plaintext"
    }
   },
   "outputs": [],
   "source": [
    "Задание 4"
   ]
  },
  {
   "cell_type": "code",
   "execution_count": null,
   "metadata": {
    "vscode": {
     "languageId": "plaintext"
    }
   },
   "outputs": [],
   "source": [
    "import sys\n",
    "\n",
    "def check_generator():\n",
    "    mas_gen = { x for x in range(0, 1000000) if x % 7 == 0 }\n",
    "    mem1 = sys.getsizeof(mas_gen)\n",
    "\n",
    "    mas_gen2 = []\n",
    "\n",
    "    def gen():\n",
    "        for x in range(0, 1000000):\n",
    "            if x % 7 == 0:\n",
    "                yield x\n",
    "\n",
    "    mas_gen2 = gen()\n",
    "    mas_gen2 = gen()\n",
    "\n",
    "    mem2 = sys.getsizeof(mas_gen2)\n",
    "\n",
    "    return mem1 - mem2"
   ]
  },
  {
   "cell_type": "markdown",
   "metadata": {},
   "source": [
    "Задание 5"
   ]
  },
  {
   "cell_type": "code",
   "execution_count": null,
   "metadata": {
    "vscode": {
     "languageId": "plaintext"
    }
   },
   "outputs": [],
   "source": [
    "def function(string):\n",
    "    list_1 = list(filter(lambda x : x in \"аеёиоуыэюя\", string))\n",
    "    list_2 = list(map(lambda x : x * 2, list_1))\n",
    "    list_3 = list(zip(list_1, list_2))\n",
    "    string_out = \"\"\n",
    "\n",
    "    for s, ss in list_3:\n",
    "        string_out += s + ss\n",
    "\n",
    "    return string_out\n"
   ]
  }
 ],
 "metadata": {
  "language_info": {
   "name": "python"
  }
 },
 "nbformat": 4,
 "nbformat_minor": 2
}
